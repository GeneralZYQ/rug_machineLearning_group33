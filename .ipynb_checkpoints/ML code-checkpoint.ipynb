{
 "cells": [
  {
   "cell_type": "markdown",
   "metadata": {},
   "source": [
    "### Load traning data and do one-hot encoding on labels"
   ]
  },
  {
   "cell_type": "code",
   "execution_count": 1,
   "metadata": {},
   "outputs": [],
   "source": [
    "import csv\n",
    "\n",
    "# every 30 lines is a different speaker. Each recording is decomposed into 9 arrays of 4 points (9 lines from the original plot)\n",
    "with open('training_after_PCA_after_taking_4.csv', newline='') as csvfile:\n",
    "    data = list(csv.reader(csvfile))\n",
    "\n",
    "# generate labels for the training \n",
    "integer_encoded = []\n",
    "for i in range(9):\n",
    "    integer_encoded += [i] * 30\n",
    "\n",
    "onehot_encoded = []\n",
    "for elem in integer_encoded:\n",
    "    letter = [0 for i in range(9)]\n",
    "    letter[elem] = 1\n",
    "    onehot_encoded.append(letter)\n",
    "\n",
    "y_train=onehot_encoded\n",
    "x_train=data"
   ]
  },
  {
   "cell_type": "markdown",
   "metadata": {},
   "source": [
    "### Load testing data and do one-hot encoding on labels"
   ]
  },
  {
   "cell_type": "code",
   "execution_count": 2,
   "metadata": {},
   "outputs": [
    {
     "name": "stdout",
     "output_type": "stream",
     "text": [
      "370\n",
      "370\n"
     ]
    }
   ],
   "source": [
    "import csv\n",
    "\n",
    "# every 30 lines is a different speaker. Each recording is decomposed into 9 arrays of 4 points (9 lines from the original plot)\n",
    "with open('testing_after_PCA_after_taking_4.csv', newline='') as csvfile:\n",
    "    data_test = list(csv.reader(csvfile))\n",
    "\n",
    "\n",
    "# generate labels for the training \n",
    "integer_encoded = [0]*31 + [1]*35 + [2]*88 + [3]*44 + [4]*29 + [5]*24 + [6]*40 + [7]*50 + [8]*29\n",
    "\n",
    "onehot_encoded = []\n",
    "for elem in integer_encoded:\n",
    "    letter = [0 for i in range(9)]\n",
    "    letter[elem] = 1\n",
    "    onehot_encoded.append(letter)\n",
    "\n",
    "y_test=onehot_encoded\n",
    "x_test=data_test\n",
    "print(len(y_test))\n",
    "print(len(x_test))"
   ]
  },
  {
   "cell_type": "markdown",
   "metadata": {},
   "source": [
    "### Convert data from str to list of ints"
   ]
  },
  {
   "cell_type": "code",
   "execution_count": 3,
   "metadata": {},
   "outputs": [
    {
     "name": "stdout",
     "output_type": "stream",
     "text": [
      "270\n",
      "370\n"
     ]
    }
   ],
   "source": [
    "import string\n",
    "\n",
    "def Convert_to_list_of_ints(data): \n",
    "    t=[]\n",
    "    c=[]\n",
    "    for elem in data:\n",
    "        for i in range(9):\n",
    "            temp = elem[i].strip(string.punctuation)\n",
    "            temp = temp.replace(\" \", \"\")\n",
    "            temp = temp.replace(\"'\",\"\")\n",
    "            temp = list(map(float, temp.split(\",\")))\n",
    "            c.append(temp) #concatenate the sub arrays for each of the 9 lines to make one big array\n",
    "        t.append(c)\n",
    "        c=[]\n",
    "    return t\n",
    "\n",
    "x_train=Convert_to_list_of_ints(x_train)\n",
    "x_test=Convert_to_list_of_ints(x_test)\n",
    "\n",
    "print(len(x_train))\n",
    "print(len(x_test))\n"
   ]
  },
  {
   "cell_type": "code",
   "execution_count": 4,
   "metadata": {},
   "outputs": [
    {
     "name": "stdout",
     "output_type": "stream",
     "text": [
      "[[1.7693870767093212, -0.8460164272960151, 0.5534737237068844, 1.8703358874300287], [1.8133210106900062, -2.3602846275855365, -1.98182238750905, -0.4721725842355035], [0.40750881492947255, 0.8992262468033351, 1.909293447861917, 0.7356027461878615], [1.9100375843927693, 1.045651158944131, 0.5428003387806436, 0.1371033075460577], [1.9251124748613964, 1.634097183138999, 0.5103132343254394, 2.1276938207885956], [1.0018328960752336, 0.8209451490134135, 0.49295765921184925, -0.8600332985100363], [0.13362468773147332, 0.055888058958342354, -0.2736495305870298, -0.3932043731639428], [0.28255814116254524, -0.3760625100493803, -0.02034860759700484, -0.351702426845183], [0.7378421207748456, 0.4384662613411774, 0.3049287052925835, 1.3331808535790062]]\n"
     ]
    }
   ],
   "source": [
    "print(x_train[0])"
   ]
  },
  {
   "cell_type": "code",
   "execution_count": 12,
   "metadata": {},
   "outputs": [],
   "source": [
    "import numpy as np\n",
    "import random\n",
    "\n",
    "# shuffle training data\n",
    "c = list(zip(x_train, y_train))\n",
    "random.shuffle(c)\n",
    "x_train, y_train = zip(*c)\n",
    "\n",
    "## Turn the lists into np.arrays\n",
    "x_train, y_train = np.array(x_train), np.array(y_train)\n",
    "\n",
    "\n",
    "## we also have to convert our data into three-dimensional format\n",
    "x_train = np.reshape(x_train, (x_train.shape[0], 4,9))"
   ]
  },
  {
   "cell_type": "code",
   "execution_count": 13,
   "metadata": {},
   "outputs": [],
   "source": [
    "# shuffle testing data\n",
    "b = list(zip(x_test, y_test))\n",
    "random.shuffle(b)\n",
    "x_test, y_test = zip(*b)\n",
    "\n",
    "## Turn the lists into np.arrays\n",
    "x_test, y_test = np.array(x_test), np.array(y_test)\n",
    "\n",
    "## we also have to convert our data into three-dimensional format\n",
    "x_test = np.reshape(x_test, (x_test.shape[0], 4,9))"
   ]
  },
  {
   "cell_type": "markdown",
   "metadata": {},
   "source": [
    "### The model"
   ]
  },
  {
   "cell_type": "code",
   "execution_count": 22,
   "metadata": {},
   "outputs": [
    {
     "name": "stdout",
     "output_type": "stream",
     "text": [
      "Epoch 1/30\n",
      "270/270 [==============================] - 2s 6ms/step - loss: 0.0987 - accuracy: 0.2074\n",
      "Epoch 2/30\n",
      "270/270 [==============================] - 0s 1ms/step - loss: 0.0965 - accuracy: 0.2185\n",
      "Epoch 3/30\n",
      "270/270 [==============================] - 0s 2ms/step - loss: 0.0848 - accuracy: 0.3444\n",
      "Epoch 4/30\n",
      "270/270 [==============================] - 0s 1ms/step - loss: 0.0745 - accuracy: 0.4444\n",
      "Epoch 5/30\n",
      "270/270 [==============================] - 0s 1ms/step - loss: 0.0681 - accuracy: 0.4815\n",
      "Epoch 6/30\n",
      "270/270 [==============================] - 0s 1ms/step - loss: 0.0644 - accuracy: 0.5556\n",
      "Epoch 7/30\n",
      "270/270 [==============================] - 0s 1ms/step - loss: 0.0604 - accuracy: 0.5704\n",
      "Epoch 8/30\n",
      "270/270 [==============================] - 0s 1ms/step - loss: 0.0614 - accuracy: 0.5741\n",
      "Epoch 9/30\n",
      "270/270 [==============================] - 0s 1ms/step - loss: 0.0569 - accuracy: 0.5926\n",
      "Epoch 10/30\n",
      "270/270 [==============================] - 0s 1ms/step - loss: 0.0550 - accuracy: 0.6444\n",
      "Epoch 11/30\n",
      "270/270 [==============================] - 0s 1ms/step - loss: 0.0506 - accuracy: 0.6667\n",
      "Epoch 12/30\n",
      "270/270 [==============================] - 0s 1ms/step - loss: 0.0561 - accuracy: 0.6481\n",
      "Epoch 13/30\n",
      "270/270 [==============================] - 0s 1ms/step - loss: 0.0472 - accuracy: 0.6852\n",
      "Epoch 14/30\n",
      "270/270 [==============================] - 0s 1ms/step - loss: 0.0455 - accuracy: 0.6926\n",
      "Epoch 15/30\n",
      "270/270 [==============================] - 0s 1ms/step - loss: 0.0510 - accuracy: 0.6741\n",
      "Epoch 16/30\n",
      "270/270 [==============================] - 0s 1ms/step - loss: 0.0399 - accuracy: 0.7593\n",
      "Epoch 17/30\n",
      "270/270 [==============================] - 0s 1ms/step - loss: 0.0444 - accuracy: 0.7407\n",
      "Epoch 18/30\n",
      "270/270 [==============================] - 0s 1ms/step - loss: 0.0454 - accuracy: 0.7333\n",
      "Epoch 19/30\n",
      "270/270 [==============================] - 0s 1ms/step - loss: 0.0436 - accuracy: 0.6815\n",
      "Epoch 20/30\n",
      "270/270 [==============================] - 0s 1ms/step - loss: 0.0405 - accuracy: 0.7556\n",
      "Epoch 21/30\n",
      "270/270 [==============================] - 0s 1ms/step - loss: 0.0314 - accuracy: 0.7852\n",
      "Epoch 22/30\n",
      "270/270 [==============================] - 0s 1ms/step - loss: 0.0371 - accuracy: 0.7926\n",
      "Epoch 23/30\n",
      "270/270 [==============================] - 0s 1ms/step - loss: 0.0350 - accuracy: 0.7889\n",
      "Epoch 24/30\n",
      "270/270 [==============================] - 0s 1ms/step - loss: 0.0346 - accuracy: 0.7778\n",
      "Epoch 25/30\n",
      "270/270 [==============================] - 0s 1ms/step - loss: 0.0319 - accuracy: 0.8259\n",
      "Epoch 26/30\n",
      "270/270 [==============================] - 0s 1ms/step - loss: 0.0339 - accuracy: 0.7778\n",
      "Epoch 27/30\n",
      "270/270 [==============================] - 0s 1ms/step - loss: 0.0325 - accuracy: 0.8074\n",
      "Epoch 28/30\n",
      "270/270 [==============================] - 0s 1ms/step - loss: 0.0328 - accuracy: 0.8148\n",
      "Epoch 29/30\n",
      "270/270 [==============================] - 0s 1ms/step - loss: 0.0304 - accuracy: 0.8259\n",
      "Epoch 30/30\n",
      "270/270 [==============================] - 0s 1ms/step - loss: 0.0284 - accuracy: 0.8407\n"
     ]
    }
   ],
   "source": [
    "from keras.models import Sequential\n",
    "from keras.layers import LSTM, Dense, Dropout, Masking, Embedding\n",
    "\n",
    "model = Sequential()\n",
    "model.add(LSTM(units=50,activation='relu', recurrent_activation='sigmoid', return_sequences=True,input_shape=(x_train.shape[1], 9),dropout=0.2,recurrent_dropout=0.2))\n",
    "model.add(LSTM(units=50,activation='relu', recurrent_activation='sigmoid', return_sequences=True, dropout=0.2,recurrent_dropout=0.2))\n",
    "model.add(LSTM(units=50, activation='relu', recurrent_activation='sigmoid',return_sequences=False, dropout=0.2,recurrent_dropout=0.2))\n",
    "model.add(Dense(units=9,activation='softmax'))\n",
    "model.compile(optimizer = 'adam', loss = 'mean_squared_error',metrics = ['accuracy'])\n",
    "history = model.fit(x_train, y_train, batch_size=5, epochs=30)\n",
    "\n",
    "# saving the model\n",
    "model.save('keras_ML1.h5')"
   ]
  },
  {
   "cell_type": "code",
   "execution_count": 23,
   "metadata": {},
   "outputs": [
    {
     "name": "stdout",
     "output_type": "stream",
     "text": [
      "Test loss: 0.04957976607052056\n",
      "Test accuracy: 0.6918919086456299\n"
     ]
    }
   ],
   "source": [
    "from keras.models import load_model\n",
    "\n",
    "# testing the model\n",
    "model = load_model('keras_ML1.h5')\n",
    "score = model.evaluate(x_test, y_test, verbose=0)\n",
    "print('Test loss:', score[0])\n",
    "print('Test accuracy:', score[1])"
   ]
  },
  {
   "cell_type": "code",
   "execution_count": null,
   "metadata": {},
   "outputs": [],
   "source": []
  }
 ],
 "metadata": {
  "kernelspec": {
   "display_name": "Python 3",
   "language": "python",
   "name": "python3"
  },
  "language_info": {
   "codemirror_mode": {
    "name": "ipython",
    "version": 3
   },
   "file_extension": ".py",
   "mimetype": "text/x-python",
   "name": "python",
   "nbconvert_exporter": "python",
   "pygments_lexer": "ipython3",
   "version": "3.6.9"
  }
 },
 "nbformat": 4,
 "nbformat_minor": 2
}
