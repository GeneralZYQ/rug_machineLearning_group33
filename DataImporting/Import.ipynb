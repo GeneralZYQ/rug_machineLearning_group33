{
 "cells": [
  {
   "cell_type": "code",
   "execution_count": 5,
   "metadata": {},
   "outputs": [],
   "source": [
    "#Import libraries\n",
    "import pandas as pd # for using pandas daraframe\n",
    "import numpy as np # for som math operations\n",
    "from sklearn.preprocessing import StandardScaler # for standardizing the Data\n",
    "from sklearn.decomposition import PCA # for PCA calculation\n",
    "import matplotlib.pyplot as plt # for plotting"
   ]
  },
  {
   "cell_type": "code",
   "execution_count": null,
   "metadata": {},
   "outputs": [],
   "source": [
    "#Import dataset"
   ]
  },
  {
   "cell_type": "code",
   "execution_count": null,
   "metadata": {},
   "outputs": [],
   "source": [
    "#Standardise dataset\n",
    "\n",
    "Data_in_Matrix = DataName.values #get correct format for data\n",
    "ss_object = StandardScaler()\n",
    "Data_standardised = ss_object.fit_transform(Data_in_Matrix)"
   ]
  },
  {
   "cell_type": "code",
   "execution_count": null,
   "metadata": {},
   "outputs": [],
   "source": [
    "#Appply PCA to dataset\n",
    "\n",
    "#First try: keep all components (so we can see what the situation is)\n",
    "pca = PCA()\n",
    "Data_pca = pca.fit(Data_standardised)"
   ]
  },
  {
   "cell_type": "code",
   "execution_count": null,
   "metadata": {},
   "outputs": [],
   "source": [
    "#Estimate no. of components\n",
    "perc_expl = pca.explained_variance_ratio_ #percentage of variance explained by each component\n",
    "plt.plt(np.cumsum(perc_expl))\n",
    "plt.xlabel('no. components')\n",
    "plt.ylabel('% variance')"
   ]
  },
  {
   "cell_type": "code",
   "execution_count": null,
   "metadata": {},
   "outputs": [],
   "source": [
    "#Reduce dimensions\n",
    "no_comps = ?? #how many components we want\n",
    "pca = PCA(no_comps)\n",
    "Reduced_data = pca.fit_transform(Data_standardised) #reduce to the desired no. of componenets"
   ]
  },
  {
   "cell_type": "code",
   "execution_count": null,
   "metadata": {},
   "outputs": [],
   "source": [
    "#Find most important features set\n",
    "#have a look at table\n",
    "pd.DataFrame(pca.components_, columns = Data_in_Matrix.columns) #check\n",
    "#also possible to automate"
   ]
  },
  {
   "cell_type": "code",
   "execution_count": null,
   "metadata": {},
   "outputs": [],
   "source": [
    "#(steps from https://medium.com/@ansjin/dimensionality-reduction-using-pca-on-multivariate-timeseries-data-b5cc07238dc4)"
   ]
  },
  {
   "cell_type": "code",
   "execution_count": null,
   "metadata": {},
   "outputs": [],
   "source": []
  }
 ],
 "metadata": {
  "kernelspec": {
   "display_name": "Python 3",
   "language": "python",
   "name": "python3"
  },
  "language_info": {
   "codemirror_mode": {
    "name": "ipython",
    "version": 3
   },
   "file_extension": ".py",
   "mimetype": "text/x-python",
   "name": "python",
   "nbconvert_exporter": "python",
   "pygments_lexer": "ipython3",
   "version": "3.7.1"
  }
 },
 "nbformat": 4,
 "nbformat_minor": 2
}
